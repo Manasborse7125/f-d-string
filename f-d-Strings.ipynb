{
 "cells": [
  {
   "cell_type": "markdown",
   "id": "2d357023-4b46-4ea3-b454-22cfe11e68d8",
   "metadata": {},
   "source": [
    "# f-String in python."
   ]
  },
  {
   "cell_type": "code",
   "execution_count": 3,
   "id": "e99199a1-f1af-411b-96d1-010789d5fbe5",
   "metadata": {},
   "outputs": [
    {
     "name": "stdout",
     "output_type": "stream",
     "text": [
      "My name is Manas and i am from Maharastra .\n",
      "My name is Maharastra and i am from Manas .\n"
     ]
    }
   ],
   "source": [
    "s1=\"My name is {} and i am from {} .\"\n",
    "name='Manas'\n",
    "state='Maharastra'\n",
    "output1=s1.format(name,state)\n",
    "print(output1)\n",
    "output2=s1.format(state,name)\n",
    "print(output2)"
   ]
  },
  {
   "cell_type": "code",
   "execution_count": 4,
   "id": "bda6d19b-386b-4534-9c58-9cfbe6280328",
   "metadata": {},
   "outputs": [
    {
     "name": "stdout",
     "output_type": "stream",
     "text": [
      "My name is Manas and i am from Maharastra .\n"
     ]
    }
   ],
   "source": [
    "print(f\"My name is {name} and i am from {state} .\")\n",
    "name='Manas'\n",
    "state='Maharastra'"
   ]
  },
  {
   "cell_type": "code",
   "execution_count": 8,
   "id": "4e67cd09-9a0a-4c9d-a688-1900f79f6e06",
   "metadata": {},
   "outputs": [
    {
     "name": "stdout",
     "output_type": "stream",
     "text": [
      "33\n",
      "<class 'str'>\n"
     ]
    }
   ],
   "source": [
    "a=f\"{26+7}\"\n",
    "print(a)\n",
    "print(type(a))"
   ]
  },
  {
   "cell_type": "code",
   "execution_count": 9,
   "id": "ff0ab848-ff4b-4f17-aacb-fa96ddecb473",
   "metadata": {},
   "outputs": [
    {
     "name": "stdout",
     "output_type": "stream",
     "text": [
      "My name is {name} and i am from {state} .\n"
     ]
    }
   ],
   "source": [
    "print(f\"My name is {{name}} and i am from {{state}} .\")"
   ]
  },
  {
   "cell_type": "markdown",
   "id": "c4f069e5-6102-4f60-90ae-5fe280d4fc1d",
   "metadata": {},
   "source": [
    "# Doc-String & PEP-8 in python.\n"
   ]
  },
  {
   "cell_type": "code",
   "execution_count": 11,
   "id": "e3a8ca32-16d2-4594-9d64-6d955d7c0692",
   "metadata": {},
   "outputs": [
    {
     "name": "stdout",
     "output_type": "stream",
     "text": [
      "4\n"
     ]
    }
   ],
   "source": [
    "def mul(p):\n",
    "    '''Happy Birthday'''\n",
    "    print(p**2)\n",
    "p=2\n",
    "mul(p)"
   ]
  },
  {
   "cell_type": "code",
   "execution_count": 12,
   "id": "b5da4e89-b055-4a1b-9021-e05734697d2a",
   "metadata": {},
   "outputs": [
    {
     "name": "stdout",
     "output_type": "stream",
     "text": [
      "4\n",
      "Happy Birthday\n"
     ]
    }
   ],
   "source": [
    "def mul(p):\n",
    "    '''Happy Birthday'''\n",
    "    print(p**2)\n",
    "p=2\n",
    "mul(p)\n",
    "print(mul.__doc__)"
   ]
  },
  {
   "cell_type": "code",
   "execution_count": 13,
   "id": "20544cfb-501e-4401-a998-12cdfcc43f91",
   "metadata": {},
   "outputs": [
    {
     "name": "stdout",
     "output_type": "stream",
     "text": [
      "Happy Birthday\n",
      "4\n"
     ]
    }
   ],
   "source": [
    "def mul(p):\n",
    "    '''Happy Birthday'''\n",
    "    print(p**2)\n",
    "p=2\n",
    "print(mul.__doc__)\n",
    "mul(p)"
   ]
  },
  {
   "cell_type": "code",
   "execution_count": 15,
   "id": "9a9448bf-bb64-48dd-94ce-c183bd0cca81",
   "metadata": {},
   "outputs": [
    {
     "name": "stdout",
     "output_type": "stream",
     "text": [
      "None\n",
      "4\n"
     ]
    }
   ],
   "source": [
    "#Mandatory to write after defining Function.\n",
    "def mul(p):\n",
    "    print(p**2)\n",
    "    '''Happy Birthday'''\n",
    "p=2\n",
    "print(mul.__doc__)\n",
    "mul(p)"
   ]
  },
  {
   "cell_type": "code",
   "execution_count": 16,
   "id": "a30f4ebf-cea8-4635-8ed1-79103d0c86ca",
   "metadata": {},
   "outputs": [
    {
     "name": "stdout",
     "output_type": "stream",
     "text": [
      "The Zen of Python, by Tim Peters\n",
      "\n",
      "Beautiful is better than ugly.\n",
      "Explicit is better than implicit.\n",
      "Simple is better than complex.\n",
      "Complex is better than complicated.\n",
      "Flat is better than nested.\n",
      "Sparse is better than dense.\n",
      "Readability counts.\n",
      "Special cases aren't special enough to break the rules.\n",
      "Although practicality beats purity.\n",
      "Errors should never pass silently.\n",
      "Unless explicitly silenced.\n",
      "In the face of ambiguity, refuse the temptation to guess.\n",
      "There should be one-- and preferably only one --obvious way to do it.\n",
      "Although that way may not be obvious at first unless you're Dutch.\n",
      "Now is better than never.\n",
      "Although never is often better than *right* now.\n",
      "If the implementation is hard to explain, it's a bad idea.\n",
      "If the implementation is easy to explain, it may be a good idea.\n",
      "Namespaces are one honking great idea -- let's do more of those!\n"
     ]
    }
   ],
   "source": [
    "#PEP-8\n",
    "import this"
   ]
  },
  {
   "cell_type": "code",
   "execution_count": null,
   "id": "dbd9a35c-c7c4-4834-ab43-b053bb383741",
   "metadata": {},
   "outputs": [],
   "source": []
  }
 ],
 "metadata": {
  "kernelspec": {
   "display_name": "Python 3 (ipykernel)",
   "language": "python",
   "name": "python3"
  },
  "language_info": {
   "codemirror_mode": {
    "name": "ipython",
    "version": 3
   },
   "file_extension": ".py",
   "mimetype": "text/x-python",
   "name": "python",
   "nbconvert_exporter": "python",
   "pygments_lexer": "ipython3",
   "version": "3.12.4"
  }
 },
 "nbformat": 4,
 "nbformat_minor": 5
}
